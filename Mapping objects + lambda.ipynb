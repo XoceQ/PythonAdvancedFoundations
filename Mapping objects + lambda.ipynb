{
 "cells": [
  {
   "cell_type": "markdown",
   "metadata": {},
   "source": [
    "Mapping  objects \n",
    "Return a map object == iterable\n",
    "\n",
    "syntax: map(function, iterables)"
   ]
  },
  {
   "cell_type": "markdown",
   "metadata": {},
   "source": [
    "the map function"
   ]
  },
  {
   "cell_type": "code",
   "execution_count": 33,
   "metadata": {},
   "outputs": [
    {
     "name": "stdout",
     "output_type": "stream",
     "text": [
      "<map object at 0x000002CC4949ADF0>\n"
     ]
    }
   ],
   "source": [
    "new_list = [10, 20, 30, 40, 50]\n",
    "\n",
    "def addition(n):\n",
    "    return n + 5\n",
    "\n",
    "my_list = map(addition, new_list)\n",
    "print(my_list)\n"
   ]
  },
  {
   "cell_type": "code",
   "execution_count": 34,
   "metadata": {},
   "outputs": [
    {
     "name": "stdout",
     "output_type": "stream",
     "text": [
      "15\n",
      "25\n",
      "35\n",
      "45\n",
      "55\n"
     ]
    }
   ],
   "source": [
    "for item in my_list:\n",
    "    print(item)"
   ]
  },
  {
   "cell_type": "code",
   "execution_count": 35,
   "metadata": {},
   "outputs": [
    {
     "name": "stdout",
     "output_type": "stream",
     "text": [
      "('applebanana', 'watermelon fig')\n"
     ]
    }
   ],
   "source": [
    "def adding(x,y):\n",
    "    return x + y\n",
    "\n",
    "my_list = map(adding, ('apple', 'watermelon '), ('banana', 'fig'))\n",
    "print(tuple(my_list))"
   ]
  },
  {
   "cell_type": "code",
   "execution_count": 36,
   "metadata": {},
   "outputs": [
    {
     "name": "stdout",
     "output_type": "stream",
     "text": [
      "<map object at 0x000002CC48958A90>\n"
     ]
    }
   ],
   "source": [
    "new_list = [5, 12, 20, 25, 30]\n",
    "cube_n = map(lambda n: n * n * n, new_list)\n",
    "\n",
    "print(cube_n)"
   ]
  },
  {
   "cell_type": "code",
   "execution_count": 37,
   "metadata": {},
   "outputs": [
    {
     "name": "stdout",
     "output_type": "stream",
     "text": [
      "[125, 1728, 8000, 15625, 27000]\n"
     ]
    }
   ],
   "source": [
    "print(list(cube_n))"
   ]
  },
  {
   "cell_type": "code",
   "execution_count": 31,
   "metadata": {},
   "outputs": [],
   "source": [
    "numbers1 = [10, 20, 30]\n",
    "numbers2 = [40, 50, 60]\n",
    "\n",
    "new_result = map(lambda a, b: a * b, numbers1, numbers2)"
   ]
  },
  {
   "cell_type": "code",
   "execution_count": 32,
   "metadata": {},
   "outputs": [
    {
     "name": "stdout",
     "output_type": "stream",
     "text": [
      "[400, 1000, 1800]\n"
     ]
    }
   ],
   "source": [
    "print(list(new_result))"
   ]
  }
 ],
 "metadata": {
  "interpreter": {
   "hash": "59a903634c93b5d7e5a8a4887e4737e8fa902c1d5fc57adbe3925f8c35f2bb4d"
  },
  "kernelspec": {
   "display_name": "Python 3.9.9 64-bit (windows store)",
   "language": "python",
   "name": "python3"
  },
  "language_info": {
   "codemirror_mode": {
    "name": "ipython",
    "version": 3
   },
   "file_extension": ".py",
   "mimetype": "text/x-python",
   "name": "python",
   "nbconvert_exporter": "python",
   "pygments_lexer": "ipython3",
   "version": "3.9.10"
  },
  "orig_nbformat": 4
 },
 "nbformat": 4,
 "nbformat_minor": 2
}
