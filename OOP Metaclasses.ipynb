{
 "cells": [
  {
   "cell_type": "markdown",
   "metadata": {},
   "source": [
    "Metaclass\n",
    "\n",
    "- a class that instantiates another class\n",
    "\n",
    "- define the behavior of class objects \n",
    "- type is a built-in metaclass\n"
   ]
  },
  {
   "cell_type": "code",
   "execution_count": 53,
   "metadata": {},
   "outputs": [
    {
     "name": "stdout",
     "output_type": "stream",
     "text": [
      "<class '__main__.NewSample'>\n"
     ]
    }
   ],
   "source": [
    "class NewSample():\n",
    "    pass\n",
    "\n",
    "new_obj = NewSample()\n",
    "print(type(new_obj))"
   ]
  },
  {
   "cell_type": "code",
   "execution_count": 60,
   "metadata": {},
   "outputs": [
    {
     "name": "stdout",
     "output_type": "stream",
     "text": [
      "<class 'type'>\n"
     ]
    }
   ],
   "source": [
    "print(type(NewSample))"
   ]
  },
  {
   "cell_type": "code",
   "execution_count": 61,
   "metadata": {},
   "outputs": [
    {
     "ename": "NameError",
     "evalue": "name 'Team' is not defined",
     "output_type": "error",
     "traceback": [
      "\u001b[1;31m---------------------------------------------------------------------------\u001b[0m",
      "\u001b[1;31mNameError\u001b[0m                                 Traceback (most recent call last)",
      "Input \u001b[1;32mIn [61]\u001b[0m, in \u001b[0;36m<module>\u001b[1;34m\u001b[0m\n\u001b[0;32m      1\u001b[0m \u001b[38;5;66;03m#building class using metaclass\u001b[39;00m\n\u001b[1;32m----> 2\u001b[0m Player \u001b[38;5;241m=\u001b[39m \u001b[38;5;28mtype\u001b[39m(\u001b[38;5;124m'\u001b[39m\u001b[38;5;124mPlayer\u001b[39m\u001b[38;5;124m'\u001b[39m, (\u001b[43mTeam\u001b[49m,),{})\n",
      "\u001b[1;31mNameError\u001b[0m: name 'Team' is not defined"
     ]
    }
   ],
   "source": [
    "#building class using metaclass\n",
    "Player = type('Player', (Team,),{})"
   ]
  },
  {
   "cell_type": "code",
   "execution_count": null,
   "metadata": {},
   "outputs": [],
   "source": [
    "#Adding attributes and functions \n",
    "class Player:\n",
    "    def __init__(Self, name, roll):\n",
    "        self.name = name\n",
    "        self.roll = roll\n",
    "        self.number = 7"
   ]
  },
  {
   "cell_type": "code",
   "execution_count": null,
   "metadata": {},
   "outputs": [],
   "source": [
    "def init(self, name, roll):\n",
    "    self.name = name\n",
    "    self.roll = roll\n",
    "    self.number = 7\n",
    "    \n",
    "Player = type('Player', (), {'__init__': init})\n",
    "new_obj = Player(\"Ahmed\", \"70\")"
   ]
  },
  {
   "cell_type": "code",
   "execution_count": null,
   "metadata": {},
   "outputs": [
    {
     "name": "stdout",
     "output_type": "stream",
     "text": [
      "<class '__main__.Player'>\n"
     ]
    }
   ],
   "source": [
    "print(new_obj.__class__)"
   ]
  },
  {
   "cell_type": "code",
   "execution_count": null,
   "metadata": {},
   "outputs": [
    {
     "name": "stdout",
     "output_type": "stream",
     "text": [
      "<class '__main__.NewMeta'>\n",
      "<class 'type'>\n"
     ]
    }
   ],
   "source": [
    "# Builing metaclass\n",
    "class NewMeta(type):\n",
    "    __metaclass__ = type\n",
    "\n",
    "\n",
    "class NewDemo:\n",
    "    __metaclass__ = NewMeta\n",
    "\n",
    "new_object = NewDemo()\n",
    "\n",
    "print(new_object.__metaclass__)\n",
    "print(NewMeta.__metaclass__)"
   ]
  }
 ],
 "metadata": {
  "interpreter": {
   "hash": "59a903634c93b5d7e5a8a4887e4737e8fa902c1d5fc57adbe3925f8c35f2bb4d"
  },
  "kernelspec": {
   "display_name": "Python 3.9.10 64-bit (windows store)",
   "language": "python",
   "name": "python3"
  },
  "language_info": {
   "codemirror_mode": {
    "name": "ipython",
    "version": 3
   },
   "file_extension": ".py",
   "mimetype": "text/x-python",
   "name": "python",
   "nbconvert_exporter": "python",
   "pygments_lexer": "ipython3",
   "version": "3.9.10"
  },
  "orig_nbformat": 4
 },
 "nbformat": 4,
 "nbformat_minor": 2
}
