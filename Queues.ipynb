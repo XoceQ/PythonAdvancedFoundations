{
 "cells": [
  {
   "cell_type": "markdown",
   "metadata": {},
   "source": [
    "python queue\n",
    "\n",
    "create a list that uses the FIFO rule\n",
    " \n",
    " from queue import Queue\n",
    "\n",
    " syntax: Queue()"
   ]
  },
  {
   "cell_type": "code",
   "execution_count": 1,
   "metadata": {},
   "outputs": [],
   "source": [
    "from queue import Queue\n"
   ]
  },
  {
   "cell_type": "code",
   "execution_count": 2,
   "metadata": {},
   "outputs": [],
   "source": [
    "waiting_list = Queue()\n"
   ]
  },
  {
   "cell_type": "code",
   "execution_count": 3,
   "metadata": {},
   "outputs": [
    {
     "name": "stdout",
     "output_type": "stream",
     "text": [
      "<queue.Queue object at 0x000001A4BD7A61F0>\n"
     ]
    }
   ],
   "source": [
    "print(waiting_list)"
   ]
  },
  {
   "cell_type": "code",
   "execution_count": 4,
   "metadata": {},
   "outputs": [],
   "source": [
    "waiting_list.put('Ahmed')\n",
    "waiting_list.put('Ibra')\n",
    "waiting_list.put('Marcelo')\n",
    "waiting_list.put('Ibra')"
   ]
  },
  {
   "cell_type": "code",
   "execution_count": 5,
   "metadata": {},
   "outputs": [
    {
     "name": "stdout",
     "output_type": "stream",
     "text": [
      "Ahmed\n"
     ]
    }
   ],
   "source": [
    "print(waiting_list.get())"
   ]
  },
  {
   "cell_type": "code",
   "execution_count": 6,
   "metadata": {},
   "outputs": [
    {
     "name": "stdout",
     "output_type": "stream",
     "text": [
      "Ibra\n",
      "Marcelo\n",
      "Ibra\n"
     ]
    }
   ],
   "source": [
    "print(waiting_list.get())\n",
    "print(waiting_list.get())\n",
    "print(waiting_list.get())"
   ]
  }
 ],
 "metadata": {
  "interpreter": {
   "hash": "59a903634c93b5d7e5a8a4887e4737e8fa902c1d5fc57adbe3925f8c35f2bb4d"
  },
  "kernelspec": {
   "display_name": "Python 3.9.9 64-bit (windows store)",
   "language": "python",
   "name": "python3"
  },
  "language_info": {
   "codemirror_mode": {
    "name": "ipython",
    "version": 3
   },
   "file_extension": ".py",
   "mimetype": "text/x-python",
   "name": "python",
   "nbconvert_exporter": "python",
   "pygments_lexer": "ipython3",
   "version": "3.9.9"
  },
  "orig_nbformat": 4
 },
 "nbformat": 4,
 "nbformat_minor": 2
}
