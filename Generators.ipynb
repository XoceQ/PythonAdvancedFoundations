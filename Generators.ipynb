{
 "cells": [
  {
   "cell_type": "markdown",
   "metadata": {},
   "source": [
    "Generators \n",
    "\n",
    "- Declare a function that behaves like an iterator \n",
    "\n",
    "- return iterator object with sequence of values(many values)\n",
    "\n",
    "- the yield keyword: to return a value and pauses the execution while maintaining the internal states\n",
    "\n",
    "- the return keyword: to return a value and terminates the execution of the function.\n"
   ]
  },
  {
   "cell_type": "code",
   "execution_count": 65,
   "metadata": {},
   "outputs": [],
   "source": [
    "def new_generator():\n",
    "    x = 0\n",
    "    print(\"Our first point here\")\n",
    "    yield x\n",
    "    x += 1\n",
    "    print(\"Our second point here\")\n",
    "    yield x\n",
    "    x += 1\n",
    "    print(\"Our third point here\")\n",
    "    yield x\n",
    "   "
   ]
  },
  {
   "cell_type": "code",
   "execution_count": 66,
   "metadata": {},
   "outputs": [],
   "source": [
    "new_ob = new_generator()"
   ]
  },
  {
   "cell_type": "code",
   "execution_count": 67,
   "metadata": {},
   "outputs": [
    {
     "name": "stdout",
     "output_type": "stream",
     "text": [
      "<generator object new_generator at 0x0000020A70854190>\n"
     ]
    }
   ],
   "source": [
    "print(new_ob)"
   ]
  },
  {
   "cell_type": "code",
   "execution_count": 68,
   "metadata": {},
   "outputs": [
    {
     "name": "stdout",
     "output_type": "stream",
     "text": [
      "Our first point here\n",
      "the value of x is 0\n",
      "Our second point here\n",
      "the value of x is 1\n",
      "Our third point here\n",
      "the value of x is 2\n"
     ]
    }
   ],
   "source": [
    "print(f\"the value of x is {next(new_ob)}\")\n",
    "print(f\"the value of x is {next(new_ob)}\")\n",
    "print(f\"the value of x is {next(new_ob)}\")"
   ]
  },
  {
   "cell_type": "code",
   "execution_count": 73,
   "metadata": {},
   "outputs": [],
   "source": [
    "for i in new_ob:\n",
    "    print(f\"the value of x is {i}\")"
   ]
  },
  {
   "cell_type": "code",
   "execution_count": 74,
   "metadata": {},
   "outputs": [
    {
     "name": "stdout",
     "output_type": "stream",
     "text": [
      "[0, 1, 4, 9, 16, 25, 36, 49, 64, 81, 100, 121]\n",
      "<generator object <genexpr> at 0x0000020A70883C80>\n"
     ]
    }
   ],
   "source": [
    "#use generator expression\n",
    "new_list = [i * i for i in range(0,12)] #using list comprehension\n",
    "new_generator = (i * i for i in range(0,12))\n",
    "\n",
    "print(new_list)\n",
    "print(new_generator)"
   ]
  },
  {
   "cell_type": "code",
   "execution_count": 75,
   "metadata": {},
   "outputs": [
    {
     "name": "stdout",
     "output_type": "stream",
     "text": [
      "0\n",
      "1\n",
      "4\n",
      "9\n",
      "16\n",
      "25\n",
      "36\n",
      "49\n",
      "64\n",
      "81\n",
      "100\n",
      "121\n"
     ]
    }
   ],
   "source": [
    "for num in new_generator:\n",
    "    print(num)"
   ]
  }
 ],
 "metadata": {
  "interpreter": {
   "hash": "59a903634c93b5d7e5a8a4887e4737e8fa902c1d5fc57adbe3925f8c35f2bb4d"
  },
  "kernelspec": {
   "display_name": "Python 3.9.10 64-bit (windows store)",
   "language": "python",
   "name": "python3"
  },
  "language_info": {
   "codemirror_mode": {
    "name": "ipython",
    "version": 3
   },
   "file_extension": ".py",
   "mimetype": "text/x-python",
   "name": "python",
   "nbconvert_exporter": "python",
   "pygments_lexer": "ipython3",
   "version": "3.9.10"
  },
  "orig_nbformat": 4
 },
 "nbformat": 4,
 "nbformat_minor": 2
}
