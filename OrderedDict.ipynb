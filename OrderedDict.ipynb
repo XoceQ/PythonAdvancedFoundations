{
 "cells": [
  {
   "cell_type": "markdown",
   "metadata": {},
   "source": [
    "OrderedDict\n",
    "\n",
    "A subclass is used to maintain the insertion order(the order that keys were first inserted)\n",
    "\n",
    "a regular dict doesn't track the insertion order\n",
    "\n",
    "from collections import OrderedDict\n",
    "\n",
    "syntax: OrderedDict()\n",
    "\n"
   ]
  },
  {
   "cell_type": "code",
   "execution_count": 51,
   "metadata": {},
   "outputs": [],
   "source": [
    "from collections import OrderedDict\n"
   ]
  },
  {
   "cell_type": "code",
   "execution_count": 52,
   "metadata": {},
   "outputs": [],
   "source": [
    "# create dict\n",
    "new_dict = {'apple': 3, \"banana\": 7, \"cherry\": 4}"
   ]
  },
  {
   "cell_type": "code",
   "execution_count": 53,
   "metadata": {},
   "outputs": [
    {
     "data": {
      "text/plain": [
       "{'apple': 3, 'banana': 7, 'cherry': 4}"
      ]
     },
     "execution_count": 53,
     "metadata": {},
     "output_type": "execute_result"
    }
   ],
   "source": [
    "new_dict"
   ]
  },
  {
   "cell_type": "code",
   "execution_count": 54,
   "metadata": {},
   "outputs": [],
   "source": [
    "# empty ordered dict\n",
    "new_ordereddict = OrderedDict()\n"
   ]
  },
  {
   "cell_type": "code",
   "execution_count": 55,
   "metadata": {},
   "outputs": [
    {
     "name": "stdout",
     "output_type": "stream",
     "text": [
      "OrderedDict()\n"
     ]
    }
   ],
   "source": [
    "print(new_ordereddict)"
   ]
  },
  {
   "cell_type": "code",
   "execution_count": 56,
   "metadata": {},
   "outputs": [],
   "source": [
    "# ordered dict from regular dict\n",
    "new_ordereddict = OrderedDict(new_dict)"
   ]
  },
  {
   "cell_type": "code",
   "execution_count": 57,
   "metadata": {},
   "outputs": [
    {
     "name": "stdout",
     "output_type": "stream",
     "text": [
      "OrderedDict([('apple', 3), ('banana', 7), ('cherry', 4)])\n"
     ]
    }
   ],
   "source": [
    "print(new_ordereddict)"
   ]
  },
  {
   "cell_type": "code",
   "execution_count": 58,
   "metadata": {},
   "outputs": [],
   "source": [
    "# add item to dictionary\n",
    "new_ordereddict['fig'] = 5"
   ]
  },
  {
   "cell_type": "code",
   "execution_count": 59,
   "metadata": {},
   "outputs": [
    {
     "name": "stdout",
     "output_type": "stream",
     "text": [
      "OrderedDict([('apple', 3), ('banana', 7), ('cherry', 4), ('fig', 5)])\n"
     ]
    }
   ],
   "source": [
    "print(new_ordereddict)"
   ]
  },
  {
   "cell_type": "code",
   "execution_count": 60,
   "metadata": {},
   "outputs": [],
   "source": [
    "# replace item in a dict\n",
    "new_ordereddict['apple'] = 10"
   ]
  },
  {
   "cell_type": "code",
   "execution_count": 61,
   "metadata": {},
   "outputs": [
    {
     "name": "stdout",
     "output_type": "stream",
     "text": [
      "OrderedDict([('apple', 10), ('banana', 7), ('cherry', 4), ('fig', 5)])\n"
     ]
    }
   ],
   "source": [
    "print(new_ordereddict)"
   ]
  },
  {
   "cell_type": "code",
   "execution_count": 65,
   "metadata": {},
   "outputs": [
    {
     "data": {
      "text/plain": [
       "<function OrderedDict.pop>"
      ]
     },
     "execution_count": 65,
     "metadata": {},
     "output_type": "execute_result"
    }
   ],
   "source": [
    "#delete values\n",
    "new_ordereddict.pop('cherry')"
   ]
  },
  {
   "cell_type": "markdown",
   "metadata": {},
   "source": [
    "Python list pop() is an inbuilt function in Python that removes and returns the last value from the List or the given index value. Parameter: index (optional) – The value at index is popped out and removed. If the index is not given, then the last element is popped out and removed."
   ]
  },
  {
   "cell_type": "code",
   "execution_count": 67,
   "metadata": {},
   "outputs": [
    {
     "name": "stdout",
     "output_type": "stream",
     "text": [
      "OrderedDict([('apple', 10), ('banana', 7), ('fig', 5)])\n"
     ]
    }
   ],
   "source": [
    "print(new_ordereddict)"
   ]
  },
  {
   "cell_type": "code",
   "execution_count": 69,
   "metadata": {},
   "outputs": [],
   "source": [
    "new_ordereddict.move_to_end('apple')"
   ]
  },
  {
   "cell_type": "code",
   "execution_count": 70,
   "metadata": {},
   "outputs": [
    {
     "name": "stdout",
     "output_type": "stream",
     "text": [
      "OrderedDict([('banana', 7), ('fig', 5), ('apple', 10)])\n"
     ]
    }
   ],
   "source": [
    "print(new_ordereddict)"
   ]
  },
  {
   "cell_type": "code",
   "execution_count": 71,
   "metadata": {},
   "outputs": [
    {
     "name": "stdout",
     "output_type": "stream",
     "text": [
      "apple\n",
      "fig\n",
      "banana\n"
     ]
    }
   ],
   "source": [
    "# reverse iteration\n",
    "for item in reversed(new_ordereddict):\n",
    "    print(item)"
   ]
  }
 ],
 "metadata": {
  "interpreter": {
   "hash": "59a903634c93b5d7e5a8a4887e4737e8fa902c1d5fc57adbe3925f8c35f2bb4d"
  },
  "kernelspec": {
   "display_name": "Python 3.9.9 64-bit (windows store)",
   "language": "python",
   "name": "python3"
  },
  "language_info": {
   "codemirror_mode": {
    "name": "ipython",
    "version": 3
   },
   "file_extension": ".py",
   "mimetype": "text/x-python",
   "name": "python",
   "nbconvert_exporter": "python",
   "pygments_lexer": "ipython3",
   "version": "3.9.9"
  },
  "orig_nbformat": 4
 },
 "nbformat": 4,
 "nbformat_minor": 2
}
