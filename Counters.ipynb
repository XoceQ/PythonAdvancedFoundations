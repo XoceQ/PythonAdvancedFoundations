{
 "cells": [
  {
   "cell_type": "markdown",
   "metadata": {},
   "source": [
    "Counters\n",
    " \n",
    " \n",
    " -A sub class available inside the dictionary class\n",
    "\n",
    " -hold the count of each of the elements present in the container\n",
    "\n",
    " -count the items in a iterable, and another counter\n",
    "\n",
    " -from collections import counter\n",
    " \n"
   ]
  },
  {
   "cell_type": "code",
   "execution_count": 2,
   "metadata": {},
   "outputs": [
    {
     "name": "stdout",
     "output_type": "stream",
     "text": [
      "Counter({'b': 4, 'a': 3, 'c': 2})\n"
     ]
    }
   ],
   "source": [
    "from collections import Counter\n",
    "\n",
    "new_list = ['a', 'b', 'c', 'a', 'b', 'b', 'a', 'c', 'b']\n",
    "print(Counter(new_list))"
   ]
  },
  {
   "cell_type": "code",
   "execution_count": 3,
   "metadata": {},
   "outputs": [
    {
     "name": "stdout",
     "output_type": "stream",
     "text": [
      "Counter({'o': 4, 'e': 3, ' ': 3, 'a': 3, 'd': 3, 'n': 3, 'c': 2, 't': 2, 'w': 1, 'l': 1, 'm': 1, 'v': 1, 'f': 1, 'u': 1, 'i': 1, 's': 1})\n"
     ]
    }
   ],
   "source": [
    "# Counter with str\n",
    "from collections import Counter\n",
    "\n",
    "new_str = \"welcome to advanced foundations\"\n",
    "print(Counter(new_str))\n"
   ]
  },
  {
   "cell_type": "code",
   "execution_count": 4,
   "metadata": {},
   "outputs": [
    {
     "name": "stdout",
     "output_type": "stream",
     "text": [
      "Counter({'b': 4, 'a': 3, 'c': 2, 'd': 1})\n"
     ]
    }
   ],
   "source": [
    "#counter with list\n",
    "from collections import Counter\n",
    "\n",
    "new_list = ['a', 'b', 'c', 'a', 'b', 'b', 'a', 'c', 'b', 'd']\n",
    "print(Counter(new_list))"
   ]
  },
  {
   "cell_type": "code",
   "execution_count": 5,
   "metadata": {},
   "outputs": [
    {
     "name": "stdout",
     "output_type": "stream",
     "text": [
      "Counter({'d': 4, 'c': 3, 'b': 2, 'a': 1})\n"
     ]
    }
   ],
   "source": [
    "#counter with dict\n",
    "from collections import Counter\n",
    "\n",
    "new_dict = {'a': 1, 'b': 2, 'c': 3, 'd': 4, 'd': 4}\n",
    "print(Counter(new_dict))"
   ]
  },
  {
   "cell_type": "code",
   "execution_count": 6,
   "metadata": {},
   "outputs": [
    {
     "name": "stdout",
     "output_type": "stream",
     "text": [
      "Counter({'apple': 3, 'banana': 2, 'cherry': 2, 'fig': 1})\n"
     ]
    }
   ],
   "source": [
    "#counter with tuple\n",
    "from collections import Counter\n",
    "\n",
    "new_tuple = ('apple', 'banana', 'cherry', 'apple', 'apple', 'banana', 'fig', 'cherry' )\n",
    "print(Counter(new_tuple))"
   ]
  },
  {
   "cell_type": "code",
   "execution_count": 9,
   "metadata": {},
   "outputs": [],
   "source": [
    "#empty counter\n",
    "from collections import Counter\n",
    "_counting = Counter()"
   ]
  },
  {
   "cell_type": "code",
   "execution_count": 10,
   "metadata": {},
   "outputs": [
    {
     "data": {
      "text/plain": [
       "Counter()"
      ]
     },
     "execution_count": 10,
     "metadata": {},
     "output_type": "execute_result"
    }
   ],
   "source": [
    "-_counting"
   ]
  },
  {
   "cell_type": "code",
   "execution_count": 11,
   "metadata": {},
   "outputs": [],
   "source": [
    "_counting.update(\"Hi, python\")"
   ]
  },
  {
   "cell_type": "code",
   "execution_count": 12,
   "metadata": {},
   "outputs": [
    {
     "data": {
      "text/plain": [
       "Counter({'H': 1,\n",
       "         'i': 1,\n",
       "         ',': 1,\n",
       "         ' ': 1,\n",
       "         'p': 1,\n",
       "         'y': 1,\n",
       "         't': 1,\n",
       "         'h': 1,\n",
       "         'o': 1,\n",
       "         'n': 1})"
      ]
     },
     "execution_count": 12,
     "metadata": {},
     "output_type": "execute_result"
    }
   ],
   "source": [
    "_counting"
   ]
  },
  {
   "cell_type": "code",
   "execution_count": 13,
   "metadata": {},
   "outputs": [
    {
     "name": "stdout",
     "output_type": "stream",
     "text": [
      "Counter({'c': 3, 'b': 2, 'a': 1})\n"
     ]
    }
   ],
   "source": [
    "#delete from counter\n",
    "from collections import Counter\n",
    "\n",
    "new_dict = {'a': 1, \"b\": 2, \"c\": 3, \"d\": 4, \"d\": 4}\n",
    "del new_dict[\"d\"]\n",
    "print(Counter(new_dict))"
   ]
  }
 ],
 "metadata": {
  "interpreter": {
   "hash": "59a903634c93b5d7e5a8a4887e4737e8fa902c1d5fc57adbe3925f8c35f2bb4d"
  },
  "kernelspec": {
   "display_name": "Python 3.9.9 64-bit (windows store)",
   "language": "python",
   "name": "python3"
  },
  "language_info": {
   "codemirror_mode": {
    "name": "ipython",
    "version": 3
   },
   "file_extension": ".py",
   "mimetype": "text/x-python",
   "name": "python",
   "nbconvert_exporter": "python",
   "pygments_lexer": "ipython3",
   "version": "3.9.9"
  },
  "orig_nbformat": 4
 },
 "nbformat": 4,
 "nbformat_minor": 2
}
