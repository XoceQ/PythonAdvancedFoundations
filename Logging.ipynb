{
 "cells": [
  {
   "cell_type": "markdown",
   "metadata": {},
   "source": [
    "Logging\n",
    "\n",
    "- track events when program executes\n",
    "\n",
    "- import for develop, debug and run programs\n",
    "\n",
    "- know the cause of problems and errors \n",
    "\n",
    "- import logging "
   ]
  },
  {
   "cell_type": "markdown",
   "metadata": {},
   "source": [
    "Logging Levels\n",
    "- debug\n",
    "- info\n",
    "- warning\n",
    "- error\n",
    "- critical\n"
   ]
  },
  {
   "cell_type": "code",
   "execution_count": 5,
   "metadata": {},
   "outputs": [],
   "source": [
    "# Import Logging module\n",
    "import logging"
   ]
  },
  {
   "cell_type": "code",
   "execution_count": 6,
   "metadata": {},
   "outputs": [],
   "source": [
    "# building and config the logger \n",
    "logging.basicConfig(filename = \"main.log\", format = \"%(asctime)s %(message)s\", filemode = \"w\")\n",
    "\n",
    "# set an object for the logger \n",
    "new_logger = logging.getLogger()\n",
    "\n",
    "# set threshold to debug\n",
    "new_logger.setLevel(logging.DEBUG)\n",
    "\n",
    "# Test Messages for that log \n",
    "new_logger.debug(\"This is a Harmless debug message\")\n",
    "new_logger.info(\"Information message\")\n",
    "new_logger.warning(\"A warning message\")\n",
    "new_logger.error(\"This is an error message\")\n",
    "new_logger.critical(\"No internet, Internet is down now\")\n",
    "\n",
    "\n",
    "\n",
    "\n"
   ]
  },
  {
   "cell_type": "code",
   "execution_count": null,
   "metadata": {},
   "outputs": [],
   "source": []
  }
 ],
 "metadata": {
  "interpreter": {
   "hash": "59a903634c93b5d7e5a8a4887e4737e8fa902c1d5fc57adbe3925f8c35f2bb4d"
  },
  "kernelspec": {
   "display_name": "Python 3.9.10 64-bit (windows store)",
   "language": "python",
   "name": "python3"
  },
  "language_info": {
   "codemirror_mode": {
    "name": "ipython",
    "version": 3
   },
   "file_extension": ".py",
   "mimetype": "text/x-python",
   "name": "python",
   "nbconvert_exporter": "python",
   "pygments_lexer": "ipython3",
   "version": "3.9.10"
  },
  "orig_nbformat": 4
 },
 "nbformat": 4,
 "nbformat_minor": 2
}
