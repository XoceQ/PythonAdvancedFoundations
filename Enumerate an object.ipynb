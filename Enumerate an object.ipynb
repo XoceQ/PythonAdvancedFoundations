{
 "cells": [
  {
   "cell_type": "markdown",
   "metadata": {},
   "source": [
    "the enumerate function\n",
    "\n",
    "- return an object of the enumerate class for the given iterable\n",
    "\n",
    "- tuple for each item in the iterable with the index number\n",
    "\n",
    "syntax: enumerate(iterable, start=0)\n"
   ]
  },
  {
   "cell_type": "code",
   "execution_count": 14,
   "metadata": {},
   "outputs": [
    {
     "name": "stdout",
     "output_type": "stream",
     "text": [
      "<class 'enumerate'>\n"
     ]
    }
   ],
   "source": [
    "names = [\"Ahmed\", \"Ibra\", \"Joe\", \"Marcelo\"]\n",
    "\n",
    "new_enum = enumerate(names)\n",
    "print(type(new_enum))"
   ]
  },
  {
   "cell_type": "code",
   "execution_count": 15,
   "metadata": {},
   "outputs": [
    {
     "name": "stdout",
     "output_type": "stream",
     "text": [
      "[(0, 'Ahmed'), (1, 'Ibra'), (2, 'Joe'), (3, 'Marcelo')]\n"
     ]
    }
   ],
   "source": [
    "new_list = list(new_enum)\n",
    "print(new_list)"
   ]
  },
  {
   "cell_type": "code",
   "execution_count": 16,
   "metadata": {},
   "outputs": [
    {
     "name": "stdout",
     "output_type": "stream",
     "text": [
      "0 Ahmed\n",
      "1 Ibra\n",
      "2 Joe\n",
      "3 Marcelo\n"
     ]
    }
   ],
   "source": [
    "for index, name in enumerate(names):\n",
    "    print(index, name)"
   ]
  },
  {
   "cell_type": "code",
   "execution_count": 20,
   "metadata": {},
   "outputs": [
    {
     "name": "stdout",
     "output_type": "stream",
     "text": [
      "(0, 'Ahmed')\n",
      "(1, 'Ibra')\n",
      "(2, 'Joe')\n",
      "(3, 'Marcelo')\n"
     ]
    }
   ],
   "source": [
    "names = [\"Ahmed\", \"Ibra\", \"Joe\", \"Marcelo\"]\n",
    "\n",
    "new_enum = enumerate(names)\n",
    "print(new_enum.__next__())\n",
    "print(new_enum.__next__())\n",
    "print(new_enum.__next__())\n",
    "print(new_enum.__next__())"
   ]
  }
 ],
 "metadata": {
  "interpreter": {
   "hash": "59a903634c93b5d7e5a8a4887e4737e8fa902c1d5fc57adbe3925f8c35f2bb4d"
  },
  "kernelspec": {
   "display_name": "Python 3.9.10 64-bit (windows store)",
   "language": "python",
   "name": "python3"
  },
  "language_info": {
   "codemirror_mode": {
    "name": "ipython",
    "version": 3
   },
   "file_extension": ".py",
   "mimetype": "text/x-python",
   "name": "python",
   "nbconvert_exporter": "python",
   "pygments_lexer": "ipython3",
   "version": "3.9.10"
  },
  "orig_nbformat": 4
 },
 "nbformat": 4,
 "nbformat_minor": 2
}
